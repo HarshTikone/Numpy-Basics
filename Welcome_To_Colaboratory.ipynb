{
  "cells": [
    {
      "cell_type": "markdown",
      "metadata": {
        "id": "view-in-github",
        "colab_type": "text"
      },
      "source": [
        "<a href=\"https://colab.research.google.com/github/HarshTikone/Numpy-Basics/blob/main/Welcome_To_Colaboratory.ipynb\" target=\"_parent\"><img src=\"https://colab.research.google.com/assets/colab-badge.svg\" alt=\"Open In Colab\"/></a>"
      ]
    },
    {
      "cell_type": "markdown",
      "source": [
        "IMPORTING NUMPY IN PYTHON NOTEBOOK"
      ],
      "metadata": {
        "id": "ujI3SS8WL2Sk"
      }
    },
    {
      "cell_type": "code",
      "source": [
        "import numpy as np"
      ],
      "metadata": {
        "id": "aOW2MGesJpNW"
      },
      "execution_count": 1,
      "outputs": []
    },
    {
      "cell_type": "markdown",
      "source": [
        "CHECKING THE VERSION OF NUMPY"
      ],
      "metadata": {
        "id": "ITfdbcCYL9Uk"
      }
    },
    {
      "cell_type": "code",
      "source": [
        "np.__version__"
      ],
      "metadata": {
        "colab": {
          "base_uri": "https://localhost:8080/",
          "height": 35
        },
        "id": "xhMCdClVJtF9",
        "outputId": "c5a8a3b7-0d48-482f-bf33-a20b92e34bd4"
      },
      "execution_count": 2,
      "outputs": [
        {
          "output_type": "execute_result",
          "data": {
            "text/plain": [
              "'1.22.4'"
            ],
            "application/vnd.google.colaboratory.intrinsic+json": {
              "type": "string"
            }
          },
          "metadata": {},
          "execution_count": 2
        }
      ]
    },
    {
      "cell_type": "markdown",
      "source": [
        "BASIC WAY TO CREATE AN ARRAY"
      ],
      "metadata": {
        "id": "D1_GqqlHMB2c"
      }
    },
    {
      "cell_type": "code",
      "source": [
        "r1 = [1,2,3]\n",
        "r2 = [4,5,6]\n",
        "r3 = [7,8,9]\n",
        "\n",
        "mat1 = np.array([r1,r2,r3])\n",
        "print(mat1)"
      ],
      "metadata": {
        "colab": {
          "base_uri": "https://localhost:8080/",
          "height": 0
        },
        "id": "oOTqvlTvKaG8",
        "outputId": "09fd96e5-4d0c-4b3b-c505-8502e6bf2cc8"
      },
      "execution_count": 5,
      "outputs": [
        {
          "output_type": "stream",
          "name": "stdout",
          "text": [
            "[[1 2 3]\n",
            " [4 5 6]\n",
            " [7 8 9]]\n"
          ]
        }
      ]
    },
    {
      "cell_type": "markdown",
      "source": [
        "CREATIG A MATRIX USING EMPTY AND RANDOM INPUT VALUES"
      ],
      "metadata": {
        "id": "VTuG3lpWMH6c"
      }
    },
    {
      "cell_type": "code",
      "source": [
        "mat1 = np.empty([2,2], dtype = int)\n",
        "print(mat1)"
      ],
      "metadata": {
        "colab": {
          "base_uri": "https://localhost:8080/",
          "height": 0
        },
        "id": "9hbDMDyOKtQW",
        "outputId": "5779d3bc-52b2-487c-d37f-52bc4123b21d"
      },
      "execution_count": 12,
      "outputs": [
        {
          "output_type": "stream",
          "name": "stdout",
          "text": [
            "[[    101615943253178                   0]\n",
            " [8029390848441480559 6998704207589941364]]\n"
          ]
        }
      ]
    },
    {
      "cell_type": "markdown",
      "source": [
        "CREATIG A MATRIX USING RANDOM and RANDINT AND RANDOM INPUT VALUES"
      ],
      "metadata": {
        "id": "JOlg4_LeMZcZ"
      }
    },
    {
      "cell_type": "code",
      "source": [
        "np.random.randint(0, 20, (15, 15))"
      ],
      "metadata": {
        "colab": {
          "base_uri": "https://localhost:8080/",
          "height": 0
        },
        "id": "dQzKumblJ0f0",
        "outputId": "08fa8294-3315-4ede-dd11-e7f2d20b12e3"
      },
      "execution_count": 10,
      "outputs": [
        {
          "output_type": "execute_result",
          "data": {
            "text/plain": [
              "array([[12, 14,  8, 19, 13,  2,  0, 18, 16, 16,  0, 15, 15, 14, 13],\n",
              "       [ 9,  2, 14, 11, 10, 15,  3,  6, 11,  4,  0, 16,  1, 11, 13],\n",
              "       [ 8,  6, 17,  5, 12, 14, 10, 19, 12, 11,  6,  1, 13,  9, 14],\n",
              "       [ 7,  4, 17,  4, 19,  7, 15,  5, 17, 11,  1,  1,  5, 18, 13],\n",
              "       [10, 10,  7,  6,  7,  7,  8, 16,  0,  9,  9, 18, 18,  8, 15],\n",
              "       [ 8,  7,  9,  4,  6, 14, 18,  0,  7,  6, 17, 12, 11, 16, 13],\n",
              "       [ 5,  7,  9, 19, 12, 10, 16, 13, 15,  7,  3, 11,  6, 14, 15],\n",
              "       [18, 16, 12,  0,  6,  3,  9, 14, 14,  3, 10,  7,  3,  2,  8],\n",
              "       [16,  5,  5,  1, 11, 12,  8,  5,  2,  8,  1, 14,  8,  9,  5],\n",
              "       [ 2,  2,  0, 10,  7, 14, 14, 17, 16,  7, 12,  1,  5, 19, 18],\n",
              "       [ 2,  8, 13, 19,  7,  9, 12, 11, 10,  7, 10,  4, 13, 17, 13],\n",
              "       [19,  7,  4,  5,  5,  7, 15,  2,  2, 18, 18, 13, 10, 14,  1],\n",
              "       [ 4, 15,  9,  0, 19,  9, 13,  8, 11,  2, 15,  1,  7,  3,  5],\n",
              "       [10,  0,  4, 15,  9, 12, 10, 15, 17, 15,  3, 12, 12,  2,  0],\n",
              "       [18,  5, 14,  3,  8,  3,  1, 16,  7,  3, 18,  7,  9,  5,  3]])"
            ]
          },
          "metadata": {},
          "execution_count": 10
        }
      ]
    },
    {
      "cell_type": "markdown",
      "source": [
        "CREATIG A NULL MATRIX OR VECTOR USING ZEROS"
      ],
      "metadata": {
        "id": "J-1o8yI0MjBl"
      }
    },
    {
      "cell_type": "code",
      "source": [
        "x = np.zeros(20,dtype= int)\n",
        "x[15] = 79\n",
        "print(x)"
      ],
      "metadata": {
        "colab": {
          "base_uri": "https://localhost:8080/",
          "height": 0
        },
        "id": "-Vt2ObLMLV8f",
        "outputId": "98fcf095-0ee8-4bff-bc48-0dbd3a97c04b"
      },
      "execution_count": 14,
      "outputs": [
        {
          "output_type": "stream",
          "name": "stdout",
          "text": [
            "[ 0  0  0  0  0  0  0  0  0  0  0  0  0  0  0 79  0  0  0  0]\n"
          ]
        }
      ]
    },
    {
      "cell_type": "markdown",
      "source": [
        "REVERSING AN ARRAY BY USING FLIP"
      ],
      "metadata": {
        "id": "sBwjNjCLMt4c"
      }
    },
    {
      "cell_type": "code",
      "source": [
        "arr = np.array([1,2,3,4,5,6,7,8])\n",
        "print(np.flip(arr))"
      ],
      "metadata": {
        "colab": {
          "base_uri": "https://localhost:8080/",
          "height": 0
        },
        "id": "jFGMWyc-MqKt",
        "outputId": "e2e85b42-9f2f-4ac9-9290-b482401232e6"
      },
      "execution_count": 16,
      "outputs": [
        {
          "output_type": "stream",
          "name": "stdout",
          "text": [
            "[8 7 6 5 4 3 2 1]\n"
          ]
        }
      ]
    },
    {
      "cell_type": "markdown",
      "source": [
        "DISPLAYING 30 DAYS OF JULY"
      ],
      "metadata": {
        "id": "6f6KKmm2NSXe"
      }
    },
    {
      "cell_type": "code",
      "source": [
        "print(np.arange('2023-07-01', '2023-07-31',\n",
        "                dtype='datetime64[D]'))"
      ],
      "metadata": {
        "colab": {
          "base_uri": "https://localhost:8080/",
          "height": 0
        },
        "id": "hJoxl2JJNSdj",
        "outputId": "4a7a8107-2eb0-49b5-d1a1-0bf10c876e0e"
      },
      "execution_count": 21,
      "outputs": [
        {
          "output_type": "stream",
          "name": "stdout",
          "text": [
            "['2023-07-01' '2023-07-02' '2023-07-03' '2023-07-04' '2023-07-05'\n",
            " '2023-07-06' '2023-07-07' '2023-07-08' '2023-07-09' '2023-07-10'\n",
            " '2023-07-11' '2023-07-12' '2023-07-13' '2023-07-14' '2023-07-15'\n",
            " '2023-07-16' '2023-07-17' '2023-07-18' '2023-07-19' '2023-07-20'\n",
            " '2023-07-21' '2023-07-22' '2023-07-23' '2023-07-24' '2023-07-25'\n",
            " '2023-07-26' '2023-07-27' '2023-07-28' '2023-07-29' '2023-07-30']\n"
          ]
        }
      ]
    },
    {
      "cell_type": "markdown",
      "source": [
        "CREATING 1 BORDER and 0 INSIDE MATRIX"
      ],
      "metadata": {
        "id": "wel8DEzDSbhH"
      }
    },
    {
      "cell_type": "code",
      "source": [
        "x = np.ones((5,5), dtype = int)\n",
        "x[1:-1,1:-1] = 0\n",
        "print(x)"
      ],
      "metadata": {
        "colab": {
          "base_uri": "https://localhost:8080/",
          "height": 0
        },
        "id": "PXWAflCgQu_7",
        "outputId": "82fc84c2-92f5-4e3e-88b5-54b74ac6122f"
      },
      "execution_count": 39,
      "outputs": [
        {
          "output_type": "stream",
          "name": "stdout",
          "text": [
            "[[1 1 1 1 1]\n",
            " [1 0 0 0 1]\n",
            " [1 0 0 0 1]\n",
            " [1 0 0 0 1]\n",
            " [1 1 1 1 1]]\n"
          ]
        }
      ]
    },
    {
      "cell_type": "markdown",
      "source": [
        "USING MATRIX FUNCTION USING NUMPY"
      ],
      "metadata": {
        "id": "_C6VgHJHScEU"
      }
    },
    {
      "cell_type": "code",
      "source": [
        "a = np.random.randint(0,10, (2, 2))\n",
        "\n",
        "b = np.random.randint(0,10, (2, 2))\n",
        "print(\"A Matrix : \")\n",
        "print(a)\n",
        "print(\"B Matrix : \")\n",
        "print(b)\n",
        "result = np.add(a,b)\n",
        "print(\"Add Matrix : \")\n",
        "print(result)\n",
        "result = np.subtract(a,b)\n",
        "print(\"Subtract Matrix : \")\n",
        "print(result)\n",
        "result = np.multiply(a,b)\n",
        "print(\"A Matrix : \")\n",
        "print(result)"
      ],
      "metadata": {
        "colab": {
          "base_uri": "https://localhost:8080/"
        },
        "id": "GTdg-814SaZz",
        "outputId": "02f4fab5-3e14-4a97-98ca-fa71a06899a4"
      },
      "execution_count": 60,
      "outputs": [
        {
          "output_type": "stream",
          "name": "stdout",
          "text": [
            "[[5 5]\n",
            " [5 1]]\n",
            "\n",
            "[[9 4]\n",
            " [9 7]]\n",
            "\n",
            "[[14  9]\n",
            " [14  8]]\n",
            "\n",
            "[[-4  1]\n",
            " [-4 -6]]\n",
            "\n",
            "[[45 20]\n",
            " [45  7]]\n"
          ]
        }
      ]
    },
    {
      "cell_type": "markdown",
      "source": [
        "GENERATING 6 RANDOM INTEGERS BETWEEN 20 to 40"
      ],
      "metadata": {
        "id": "2d8Dhi9eTg30"
      }
    },
    {
      "cell_type": "code",
      "source": [
        "a = np.random.randint(20,40,(6))\n",
        "for i in  a :\n",
        "  print(i)"
      ],
      "metadata": {
        "colab": {
          "base_uri": "https://localhost:8080/",
          "height": 0
        },
        "id": "1rGCwHWQTgTj",
        "outputId": "364368a5-e215-457a-cc62-c6736190bd56"
      },
      "execution_count": 52,
      "outputs": [
        {
          "output_type": "stream",
          "name": "stdout",
          "text": [
            "39\n",
            "32\n",
            "25\n",
            "33\n",
            "30\n",
            "36\n"
          ]
        }
      ]
    },
    {
      "cell_type": "markdown",
      "source": [
        "RANDOMLY CREATING 5 X 5 MATRIX WITH ITS MAX AND MIN VALUE"
      ],
      "metadata": {
        "id": "pLG0-eUhWonK"
      }
    },
    {
      "cell_type": "code",
      "source": [
        "a = np.random.randint(0 , 100 , (5 , 5))\n",
        "print(a)\n",
        "\n",
        "print(a.min())\n",
        "print(a.max())"
      ],
      "metadata": {
        "colab": {
          "base_uri": "https://localhost:8080/",
          "height": 0
        },
        "id": "J5XaAVCcUd3q",
        "outputId": "c3ebf222-f4bf-41d5-f47a-3e3c874f3486"
      },
      "execution_count": 54,
      "outputs": [
        {
          "output_type": "stream",
          "name": "stdout",
          "text": [
            "[[53  4 64 22 12]\n",
            " [92 39  4 57 74]\n",
            " [34 65 90 13 68]\n",
            " [76 12  2 53 13]\n",
            " [71 12 20  2 22]]\n",
            "2\n",
            "92\n"
          ]
        }
      ]
    },
    {
      "cell_type": "markdown",
      "source": [
        "NORMALIZING THE ANY 2d MATRIX"
      ],
      "metadata": {
        "id": "SRIrAYQqVQpE"
      }
    },
    {
      "cell_type": "code",
      "source": [
        "def normalize_2d(matrix):\n",
        "    norm = np.linalg.norm(matrix)\n",
        "    matrix = matrix/norm\n",
        "    return matrix\n",
        "\n",
        "arr = np.random.randint(0 , 10 , (3 , 3))\n",
        "nor_arr = normalize_2d(arr)\n",
        "\n",
        "print(arr)\n",
        "print(nor_arr)\n"
      ],
      "metadata": {
        "colab": {
          "base_uri": "https://localhost:8080/",
          "height": 0
        },
        "id": "sM9J33eBVQuB",
        "outputId": "9b397eac-a828-4c80-ec96-38853180eef4"
      },
      "execution_count": 59,
      "outputs": [
        {
          "output_type": "stream",
          "name": "stdout",
          "text": [
            "[[0 6 5]\n",
            " [8 3 2]\n",
            " [3 7 0]]\n",
            "[[0.         0.42857143 0.35714286]\n",
            " [0.57142857 0.21428571 0.14285714]\n",
            " [0.21428571 0.5        0.        ]]\n"
          ]
        }
      ]
    }
  ],
  "metadata": {
    "colab": {
      "name": "Welcome To Colaboratory",
      "toc_visible": true,
      "provenance": [],
      "include_colab_link": true
    },
    "kernelspec": {
      "display_name": "Python 3",
      "name": "python3"
    }
  },
  "nbformat": 4,
  "nbformat_minor": 0
}